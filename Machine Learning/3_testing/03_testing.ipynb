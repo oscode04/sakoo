{
  "nbformat": 4,
  "nbformat_minor": 0,
  "metadata": {
    "colab": {
      "provenance": [],
      "toc_visible": true
    },
    "kernelspec": {
      "name": "python3",
      "display_name": "Python 3"
    },
    "language_info": {
      "name": "python"
    }
  },
  "cells": [
    {
      "cell_type": "markdown",
      "metadata": {
        "id": "TfB89ylB-ric"
      },
      "source": [
        "#**Testing Dataset Capstone Project**\n"
      ]
    },
    {
      "cell_type": "markdown",
      "source": [
        "Setelah proses klasifikasi dilakukan untuk memprediksi cluster dari data baru (pengguna) berdasarkan pola fitur yang telah terbentuk, tahapan selanjutnya adalah melakukan pengujian model menggunakan dataset testing.\n",
        "\n",
        "Dataset yang digunakan adalah hasil clustering `Dataset_final_input_user.csv` yang terdiri dari 20.000 data. Dari total tersebut, sebanyak 5.000 data yang sebelumnya telah dipisahkan khusus untuk tahap pengujian untuk mengevaluasi performa model akan digunakan pada tahapan ini."
      ],
      "metadata": {
        "id": "ftLatC6UOkq-"
      }
    },
    {
      "cell_type": "markdown",
      "source": [
        "# **1. Package/Library yang digunakan**"
      ],
      "metadata": {
        "id": "UWBJYsCeG52C"
      }
    },
    {
      "cell_type": "markdown",
      "source": [
        "Pada tahapan pertama dari proses testing yakni akan dilakukan import package/library yang diperlukan untuk kemudahan dalam proses testing\n",
        "\n",
        "Beberapa library utama telah dijelaskan pada notebook sebelumnya, sehingga pada bagian ini hanya dijelaskan library tambahan yang belum dibahas sebelumnya, yaitu:\n",
        "\n",
        "*   `from tensorflow.keras.models import load_model`\n",
        "    > Untuk memuat model deep learning yang sudah dilatih dan disimpan sebelumnya dalam format HDF5 atau SavedModel.\n",
        "\n",
        "*   `from tensorflow.keras.utils import to_categorical`\n",
        "    > Untuk mengubah label numerik  menjadi format one-hot encoding, yang sering digunakan dalam klasifikasi multi-kelas agar label bisa kompatibel dengan output model neural network.\n",
        "\n",
        "*   `from sklearn.model_selection import StandardScaler`\n",
        "    > Untuk menstandarisasi fitur input dengan cara mengurangi nilai rata-rata dan membaginya dengan standar deviasi, sehingga setiap fitur memiliki distribusi dengan rata-rata 0 dan varians 1.\n",
        "\n",
        "*   `import gdown`\n",
        "    > Untuk mengunduh file dari Google Drive secara langsung menggunakan URL yang dibagikan, sering dipakai untuk mengambil model atau dataset yang disimpan secara online.\n",
        "\n",
        "*   `import joblib`\n",
        "    > Untuk menyimpan dan memuat model, joblib digunakan untuk objek besar.\n"
      ],
      "metadata": {
        "id": "DbsVoIiuKAzR"
      }
    },
    {
      "cell_type": "code",
      "source": [
        "import pandas as pd\n",
        "import numpy as np\n",
        "import pickle\n",
        "from tensorflow.keras.models import load_model\n",
        "from tensorflow.keras.utils import to_categorical\n",
        "from sklearn.preprocessing import StandardScaler\n",
        "import gdown\n",
        "import joblib"
      ],
      "metadata": {
        "id": "Ol9-EBDJNhaX"
      },
      "execution_count": null,
      "outputs": []
    },
    {
      "cell_type": "markdown",
      "source": [
        "# **2. Data Loading dan Model**"
      ],
      "metadata": {
        "id": "U6MIg0etL4C-"
      }
    },
    {
      "cell_type": "markdown",
      "source": [
        "Tahapan kedua dari testing adalah memuat dataset serta memuatnya ke dalam Data Frame dan model yang akan digunakan"
      ],
      "metadata": {
        "id": "E2dUSTyC67Ru"
      }
    },
    {
      "cell_type": "markdown",
      "source": [
        "## Mengunduh Dataset dari Google Drive"
      ],
      "metadata": {
        "id": "gKvSIPZvDbdl"
      }
    },
    {
      "cell_type": "code",
      "execution_count": null,
      "metadata": {
        "colab": {
          "base_uri": "https://localhost:8080/",
          "height": 104
        },
        "id": "khL5izPekAxK",
        "outputId": "dda87494-bfdb-4c3a-aed8-04b86368ef0c"
      },
      "outputs": [
        {
          "output_type": "stream",
          "name": "stderr",
          "text": [
            "Downloading...\n",
            "From: https://drive.google.com/uc?export=download&id=1HbdUKB9qP4On1ETueWmLSwkoHHGKFTto\n",
            "To: /content/nolabel_datauji_df_final_4_cluster.csv\n",
            "100%|██████████| 62.5k/62.5k [00:00<00:00, 54.5MB/s]\n"
          ]
        },
        {
          "output_type": "execute_result",
          "data": {
            "text/plain": [
              "'nolabel_datauji_df_final_4_cluster.csv'"
            ],
            "application/vnd.google.colaboratory.intrinsic+json": {
              "type": "string"
            }
          },
          "metadata": {},
          "execution_count": 2
        }
      ],
      "source": [
        "csv_id = '1HbdUKB9qP4On1ETueWmLSwkoHHGKFTto'\n",
        "csv_url = f'https://drive.google.com/uc?export=download&id={csv_id}'\n",
        "csv_filename = 'nolabel_datauji_df_final_4_cluster.csv'\n",
        "gdown.download(csv_url, csv_filename, quiet=False)"
      ]
    },
    {
      "cell_type": "markdown",
      "source": [
        "## Memuat ke dalam DataFrame"
      ],
      "metadata": {
        "id": "a2eWhxTb31Y3"
      }
    },
    {
      "cell_type": "markdown",
      "source": [
        "Setelah data berhasil diunduh, tahapan selanjutnya adalah memuat data ke dalam sebuah DataFrame dan menyimpannya dalam variabe `df`"
      ],
      "metadata": {
        "id": "QakS6KOM3Yzv"
      }
    },
    {
      "cell_type": "code",
      "source": [
        "df = pd.read_csv('/content/nolabel_datauji_df_final_4_cluster.csv')\n",
        "df.head(10)"
      ],
      "metadata": {
        "colab": {
          "base_uri": "https://localhost:8080/",
          "height": 363
        },
        "id": "3UMy4ujZwGPQ",
        "outputId": "27f36311-2d85-481e-9821-9b9a9e3c2d48"
      },
      "execution_count": null,
      "outputs": [
        {
          "output_type": "execute_result",
          "data": {
            "text/plain": [
              "   Unnamed: 0  Pendapatan Bulanan  Total Pengeluaran  Tabungan  \\\n",
              "0       15095             3479135            3366571    383818   \n",
              "1       15096             5909635            4748150    883466   \n",
              "2       15097             4690356            4988510    693808   \n",
              "3       15098             5777471            4877955    907218   \n",
              "4       15099             5212882            3427158    669527   \n",
              "5       15100             1000000            2243060    209026   \n",
              "6       15101             4388363            3209185    466873   \n",
              "7       15102             5918662            5044962    610191   \n",
              "8       15103             6754983            4600228    897483   \n",
              "9       15104             7184045            5144483    556053   \n",
              "\n",
              "   Cicilan Per Bulan  Dana Darurat  Total Aset  Total Utang  Target  \n",
              "0             722462        472370    12000000     22396351       0  \n",
              "1             878886        438586     9000000      7031095       0  \n",
              "2            1158535        161281     7500000     35914600       0  \n",
              "3            1485468        702520     3000000     77244349       0  \n",
              "4            1120757        624172    10500000     63883164       0  \n",
              "5              54785        130050     3000000      2739284       3  \n",
              "6             779172        343606     3000000     42854503       0  \n",
              "7            1345866        388759    12000000     43067721       0  \n",
              "8             645954        708072     7500000      3875727       1  \n",
              "9             821015        528456     7500000     18883366       0  "
            ],
            "text/html": [
              "\n",
              "  <div id=\"df-99b704eb-a0f1-4c82-b0d8-9cfcef53167d\" class=\"colab-df-container\">\n",
              "    <div>\n",
              "<style scoped>\n",
              "    .dataframe tbody tr th:only-of-type {\n",
              "        vertical-align: middle;\n",
              "    }\n",
              "\n",
              "    .dataframe tbody tr th {\n",
              "        vertical-align: top;\n",
              "    }\n",
              "\n",
              "    .dataframe thead th {\n",
              "        text-align: right;\n",
              "    }\n",
              "</style>\n",
              "<table border=\"1\" class=\"dataframe\">\n",
              "  <thead>\n",
              "    <tr style=\"text-align: right;\">\n",
              "      <th></th>\n",
              "      <th>Unnamed: 0</th>\n",
              "      <th>Pendapatan Bulanan</th>\n",
              "      <th>Total Pengeluaran</th>\n",
              "      <th>Tabungan</th>\n",
              "      <th>Cicilan Per Bulan</th>\n",
              "      <th>Dana Darurat</th>\n",
              "      <th>Total Aset</th>\n",
              "      <th>Total Utang</th>\n",
              "      <th>Target</th>\n",
              "    </tr>\n",
              "  </thead>\n",
              "  <tbody>\n",
              "    <tr>\n",
              "      <th>0</th>\n",
              "      <td>15095</td>\n",
              "      <td>3479135</td>\n",
              "      <td>3366571</td>\n",
              "      <td>383818</td>\n",
              "      <td>722462</td>\n",
              "      <td>472370</td>\n",
              "      <td>12000000</td>\n",
              "      <td>22396351</td>\n",
              "      <td>0</td>\n",
              "    </tr>\n",
              "    <tr>\n",
              "      <th>1</th>\n",
              "      <td>15096</td>\n",
              "      <td>5909635</td>\n",
              "      <td>4748150</td>\n",
              "      <td>883466</td>\n",
              "      <td>878886</td>\n",
              "      <td>438586</td>\n",
              "      <td>9000000</td>\n",
              "      <td>7031095</td>\n",
              "      <td>0</td>\n",
              "    </tr>\n",
              "    <tr>\n",
              "      <th>2</th>\n",
              "      <td>15097</td>\n",
              "      <td>4690356</td>\n",
              "      <td>4988510</td>\n",
              "      <td>693808</td>\n",
              "      <td>1158535</td>\n",
              "      <td>161281</td>\n",
              "      <td>7500000</td>\n",
              "      <td>35914600</td>\n",
              "      <td>0</td>\n",
              "    </tr>\n",
              "    <tr>\n",
              "      <th>3</th>\n",
              "      <td>15098</td>\n",
              "      <td>5777471</td>\n",
              "      <td>4877955</td>\n",
              "      <td>907218</td>\n",
              "      <td>1485468</td>\n",
              "      <td>702520</td>\n",
              "      <td>3000000</td>\n",
              "      <td>77244349</td>\n",
              "      <td>0</td>\n",
              "    </tr>\n",
              "    <tr>\n",
              "      <th>4</th>\n",
              "      <td>15099</td>\n",
              "      <td>5212882</td>\n",
              "      <td>3427158</td>\n",
              "      <td>669527</td>\n",
              "      <td>1120757</td>\n",
              "      <td>624172</td>\n",
              "      <td>10500000</td>\n",
              "      <td>63883164</td>\n",
              "      <td>0</td>\n",
              "    </tr>\n",
              "    <tr>\n",
              "      <th>5</th>\n",
              "      <td>15100</td>\n",
              "      <td>1000000</td>\n",
              "      <td>2243060</td>\n",
              "      <td>209026</td>\n",
              "      <td>54785</td>\n",
              "      <td>130050</td>\n",
              "      <td>3000000</td>\n",
              "      <td>2739284</td>\n",
              "      <td>3</td>\n",
              "    </tr>\n",
              "    <tr>\n",
              "      <th>6</th>\n",
              "      <td>15101</td>\n",
              "      <td>4388363</td>\n",
              "      <td>3209185</td>\n",
              "      <td>466873</td>\n",
              "      <td>779172</td>\n",
              "      <td>343606</td>\n",
              "      <td>3000000</td>\n",
              "      <td>42854503</td>\n",
              "      <td>0</td>\n",
              "    </tr>\n",
              "    <tr>\n",
              "      <th>7</th>\n",
              "      <td>15102</td>\n",
              "      <td>5918662</td>\n",
              "      <td>5044962</td>\n",
              "      <td>610191</td>\n",
              "      <td>1345866</td>\n",
              "      <td>388759</td>\n",
              "      <td>12000000</td>\n",
              "      <td>43067721</td>\n",
              "      <td>0</td>\n",
              "    </tr>\n",
              "    <tr>\n",
              "      <th>8</th>\n",
              "      <td>15103</td>\n",
              "      <td>6754983</td>\n",
              "      <td>4600228</td>\n",
              "      <td>897483</td>\n",
              "      <td>645954</td>\n",
              "      <td>708072</td>\n",
              "      <td>7500000</td>\n",
              "      <td>3875727</td>\n",
              "      <td>1</td>\n",
              "    </tr>\n",
              "    <tr>\n",
              "      <th>9</th>\n",
              "      <td>15104</td>\n",
              "      <td>7184045</td>\n",
              "      <td>5144483</td>\n",
              "      <td>556053</td>\n",
              "      <td>821015</td>\n",
              "      <td>528456</td>\n",
              "      <td>7500000</td>\n",
              "      <td>18883366</td>\n",
              "      <td>0</td>\n",
              "    </tr>\n",
              "  </tbody>\n",
              "</table>\n",
              "</div>\n",
              "    <div class=\"colab-df-buttons\">\n",
              "\n",
              "  <div class=\"colab-df-container\">\n",
              "    <button class=\"colab-df-convert\" onclick=\"convertToInteractive('df-99b704eb-a0f1-4c82-b0d8-9cfcef53167d')\"\n",
              "            title=\"Convert this dataframe to an interactive table.\"\n",
              "            style=\"display:none;\">\n",
              "\n",
              "  <svg xmlns=\"http://www.w3.org/2000/svg\" height=\"24px\" viewBox=\"0 -960 960 960\">\n",
              "    <path d=\"M120-120v-720h720v720H120Zm60-500h600v-160H180v160Zm220 220h160v-160H400v160Zm0 220h160v-160H400v160ZM180-400h160v-160H180v160Zm440 0h160v-160H620v160ZM180-180h160v-160H180v160Zm440 0h160v-160H620v160Z\"/>\n",
              "  </svg>\n",
              "    </button>\n",
              "\n",
              "  <style>\n",
              "    .colab-df-container {\n",
              "      display:flex;\n",
              "      gap: 12px;\n",
              "    }\n",
              "\n",
              "    .colab-df-convert {\n",
              "      background-color: #E8F0FE;\n",
              "      border: none;\n",
              "      border-radius: 50%;\n",
              "      cursor: pointer;\n",
              "      display: none;\n",
              "      fill: #1967D2;\n",
              "      height: 32px;\n",
              "      padding: 0 0 0 0;\n",
              "      width: 32px;\n",
              "    }\n",
              "\n",
              "    .colab-df-convert:hover {\n",
              "      background-color: #E2EBFA;\n",
              "      box-shadow: 0px 1px 2px rgba(60, 64, 67, 0.3), 0px 1px 3px 1px rgba(60, 64, 67, 0.15);\n",
              "      fill: #174EA6;\n",
              "    }\n",
              "\n",
              "    .colab-df-buttons div {\n",
              "      margin-bottom: 4px;\n",
              "    }\n",
              "\n",
              "    [theme=dark] .colab-df-convert {\n",
              "      background-color: #3B4455;\n",
              "      fill: #D2E3FC;\n",
              "    }\n",
              "\n",
              "    [theme=dark] .colab-df-convert:hover {\n",
              "      background-color: #434B5C;\n",
              "      box-shadow: 0px 1px 3px 1px rgba(0, 0, 0, 0.15);\n",
              "      filter: drop-shadow(0px 1px 2px rgba(0, 0, 0, 0.3));\n",
              "      fill: #FFFFFF;\n",
              "    }\n",
              "  </style>\n",
              "\n",
              "    <script>\n",
              "      const buttonEl =\n",
              "        document.querySelector('#df-99b704eb-a0f1-4c82-b0d8-9cfcef53167d button.colab-df-convert');\n",
              "      buttonEl.style.display =\n",
              "        google.colab.kernel.accessAllowed ? 'block' : 'none';\n",
              "\n",
              "      async function convertToInteractive(key) {\n",
              "        const element = document.querySelector('#df-99b704eb-a0f1-4c82-b0d8-9cfcef53167d');\n",
              "        const dataTable =\n",
              "          await google.colab.kernel.invokeFunction('convertToInteractive',\n",
              "                                                    [key], {});\n",
              "        if (!dataTable) return;\n",
              "\n",
              "        const docLinkHtml = 'Like what you see? Visit the ' +\n",
              "          '<a target=\"_blank\" href=https://colab.research.google.com/notebooks/data_table.ipynb>data table notebook</a>'\n",
              "          + ' to learn more about interactive tables.';\n",
              "        element.innerHTML = '';\n",
              "        dataTable['output_type'] = 'display_data';\n",
              "        await google.colab.output.renderOutput(dataTable, element);\n",
              "        const docLink = document.createElement('div');\n",
              "        docLink.innerHTML = docLinkHtml;\n",
              "        element.appendChild(docLink);\n",
              "      }\n",
              "    </script>\n",
              "  </div>\n",
              "\n",
              "\n",
              "<div id=\"df-746cba0d-148a-48c3-a159-df3cc8926c2c\">\n",
              "  <button class=\"colab-df-quickchart\" onclick=\"quickchart('df-746cba0d-148a-48c3-a159-df3cc8926c2c')\"\n",
              "            title=\"Suggest charts\"\n",
              "            style=\"display:none;\">\n",
              "\n",
              "<svg xmlns=\"http://www.w3.org/2000/svg\" height=\"24px\"viewBox=\"0 0 24 24\"\n",
              "     width=\"24px\">\n",
              "    <g>\n",
              "        <path d=\"M19 3H5c-1.1 0-2 .9-2 2v14c0 1.1.9 2 2 2h14c1.1 0 2-.9 2-2V5c0-1.1-.9-2-2-2zM9 17H7v-7h2v7zm4 0h-2V7h2v10zm4 0h-2v-4h2v4z\"/>\n",
              "    </g>\n",
              "</svg>\n",
              "  </button>\n",
              "\n",
              "<style>\n",
              "  .colab-df-quickchart {\n",
              "      --bg-color: #E8F0FE;\n",
              "      --fill-color: #1967D2;\n",
              "      --hover-bg-color: #E2EBFA;\n",
              "      --hover-fill-color: #174EA6;\n",
              "      --disabled-fill-color: #AAA;\n",
              "      --disabled-bg-color: #DDD;\n",
              "  }\n",
              "\n",
              "  [theme=dark] .colab-df-quickchart {\n",
              "      --bg-color: #3B4455;\n",
              "      --fill-color: #D2E3FC;\n",
              "      --hover-bg-color: #434B5C;\n",
              "      --hover-fill-color: #FFFFFF;\n",
              "      --disabled-bg-color: #3B4455;\n",
              "      --disabled-fill-color: #666;\n",
              "  }\n",
              "\n",
              "  .colab-df-quickchart {\n",
              "    background-color: var(--bg-color);\n",
              "    border: none;\n",
              "    border-radius: 50%;\n",
              "    cursor: pointer;\n",
              "    display: none;\n",
              "    fill: var(--fill-color);\n",
              "    height: 32px;\n",
              "    padding: 0;\n",
              "    width: 32px;\n",
              "  }\n",
              "\n",
              "  .colab-df-quickchart:hover {\n",
              "    background-color: var(--hover-bg-color);\n",
              "    box-shadow: 0 1px 2px rgba(60, 64, 67, 0.3), 0 1px 3px 1px rgba(60, 64, 67, 0.15);\n",
              "    fill: var(--button-hover-fill-color);\n",
              "  }\n",
              "\n",
              "  .colab-df-quickchart-complete:disabled,\n",
              "  .colab-df-quickchart-complete:disabled:hover {\n",
              "    background-color: var(--disabled-bg-color);\n",
              "    fill: var(--disabled-fill-color);\n",
              "    box-shadow: none;\n",
              "  }\n",
              "\n",
              "  .colab-df-spinner {\n",
              "    border: 2px solid var(--fill-color);\n",
              "    border-color: transparent;\n",
              "    border-bottom-color: var(--fill-color);\n",
              "    animation:\n",
              "      spin 1s steps(1) infinite;\n",
              "  }\n",
              "\n",
              "  @keyframes spin {\n",
              "    0% {\n",
              "      border-color: transparent;\n",
              "      border-bottom-color: var(--fill-color);\n",
              "      border-left-color: var(--fill-color);\n",
              "    }\n",
              "    20% {\n",
              "      border-color: transparent;\n",
              "      border-left-color: var(--fill-color);\n",
              "      border-top-color: var(--fill-color);\n",
              "    }\n",
              "    30% {\n",
              "      border-color: transparent;\n",
              "      border-left-color: var(--fill-color);\n",
              "      border-top-color: var(--fill-color);\n",
              "      border-right-color: var(--fill-color);\n",
              "    }\n",
              "    40% {\n",
              "      border-color: transparent;\n",
              "      border-right-color: var(--fill-color);\n",
              "      border-top-color: var(--fill-color);\n",
              "    }\n",
              "    60% {\n",
              "      border-color: transparent;\n",
              "      border-right-color: var(--fill-color);\n",
              "    }\n",
              "    80% {\n",
              "      border-color: transparent;\n",
              "      border-right-color: var(--fill-color);\n",
              "      border-bottom-color: var(--fill-color);\n",
              "    }\n",
              "    90% {\n",
              "      border-color: transparent;\n",
              "      border-bottom-color: var(--fill-color);\n",
              "    }\n",
              "  }\n",
              "</style>\n",
              "\n",
              "  <script>\n",
              "    async function quickchart(key) {\n",
              "      const quickchartButtonEl =\n",
              "        document.querySelector('#' + key + ' button');\n",
              "      quickchartButtonEl.disabled = true;  // To prevent multiple clicks.\n",
              "      quickchartButtonEl.classList.add('colab-df-spinner');\n",
              "      try {\n",
              "        const charts = await google.colab.kernel.invokeFunction(\n",
              "            'suggestCharts', [key], {});\n",
              "      } catch (error) {\n",
              "        console.error('Error during call to suggestCharts:', error);\n",
              "      }\n",
              "      quickchartButtonEl.classList.remove('colab-df-spinner');\n",
              "      quickchartButtonEl.classList.add('colab-df-quickchart-complete');\n",
              "    }\n",
              "    (() => {\n",
              "      let quickchartButtonEl =\n",
              "        document.querySelector('#df-746cba0d-148a-48c3-a159-df3cc8926c2c button');\n",
              "      quickchartButtonEl.style.display =\n",
              "        google.colab.kernel.accessAllowed ? 'block' : 'none';\n",
              "    })();\n",
              "  </script>\n",
              "</div>\n",
              "\n",
              "    </div>\n",
              "  </div>\n"
            ],
            "application/vnd.google.colaboratory.intrinsic+json": {
              "type": "dataframe",
              "variable_name": "df",
              "summary": "{\n  \"name\": \"df\",\n  \"rows\": 1000,\n  \"fields\": [\n    {\n      \"column\": \"Unnamed: 0\",\n      \"properties\": {\n        \"dtype\": \"number\",\n        \"std\": 288,\n        \"min\": 15095,\n        \"max\": 16094,\n        \"num_unique_values\": 1000,\n        \"samples\": [\n          15616,\n          15832,\n          15835\n        ],\n        \"semantic_type\": \"\",\n        \"description\": \"\"\n      }\n    },\n    {\n      \"column\": \"Pendapatan Bulanan\",\n      \"properties\": {\n        \"dtype\": \"number\",\n        \"std\": 1978395,\n        \"min\": 1000000,\n        \"max\": 9247490,\n        \"num_unique_values\": 933,\n        \"samples\": [\n          4559225,\n          4514564,\n          5982484\n        ],\n        \"semantic_type\": \"\",\n        \"description\": \"\"\n      }\n    },\n    {\n      \"column\": \"Total Pengeluaran\",\n      \"properties\": {\n        \"dtype\": \"number\",\n        \"std\": 1430344,\n        \"min\": 728179,\n        \"max\": 8320284,\n        \"num_unique_values\": 1000,\n        \"samples\": [\n          4912934,\n          4108178,\n          2510054\n        ],\n        \"semantic_type\": \"\",\n        \"description\": \"\"\n      }\n    },\n    {\n      \"column\": \"Tabungan\",\n      \"properties\": {\n        \"dtype\": \"number\",\n        \"std\": 398653,\n        \"min\": 52727,\n        \"max\": 1852044,\n        \"num_unique_values\": 1000,\n        \"samples\": [\n          345823,\n          786007,\n          474724\n        ],\n        \"semantic_type\": \"\",\n        \"description\": \"\"\n      }\n    },\n    {\n      \"column\": \"Cicilan Per Bulan\",\n      \"properties\": {\n        \"dtype\": \"number\",\n        \"std\": 457452,\n        \"min\": 51193,\n        \"max\": 2246380,\n        \"num_unique_values\": 1000,\n        \"samples\": [\n          1547694,\n          1070754,\n          249361\n        ],\n        \"semantic_type\": \"\",\n        \"description\": \"\"\n      }\n    },\n    {\n      \"column\": \"Dana Darurat\",\n      \"properties\": {\n        \"dtype\": \"number\",\n        \"std\": 242400,\n        \"min\": 30306,\n        \"max\": 1105866,\n        \"num_unique_values\": 997,\n        \"samples\": [\n          386067,\n          312674,\n          307498\n        ],\n        \"semantic_type\": \"\",\n        \"description\": \"\"\n      }\n    },\n    {\n      \"column\": \"Total Aset\",\n      \"properties\": {\n        \"dtype\": \"number\",\n        \"std\": 3434588,\n        \"min\": 3000000,\n        \"max\": 13500000,\n        \"num_unique_values\": 8,\n        \"samples\": [\n          9000000,\n          6000000,\n          12000000\n        ],\n        \"semantic_type\": \"\",\n        \"description\": \"\"\n      }\n    },\n    {\n      \"column\": \"Total Utang\",\n      \"properties\": {\n        \"dtype\": \"number\",\n        \"std\": 17231335,\n        \"min\": 402618,\n        \"max\": 77384739,\n        \"num_unique_values\": 1000,\n        \"samples\": [\n          77384739,\n          38547176,\n          2742972\n        ],\n        \"semantic_type\": \"\",\n        \"description\": \"\"\n      }\n    },\n    {\n      \"column\": \"Target\",\n      \"properties\": {\n        \"dtype\": \"number\",\n        \"std\": 0,\n        \"min\": 0,\n        \"max\": 3,\n        \"num_unique_values\": 4,\n        \"samples\": [\n          3,\n          2,\n          0\n        ],\n        \"semantic_type\": \"\",\n        \"description\": \"\"\n      }\n    }\n  ]\n}"
            }
          },
          "metadata": {},
          "execution_count": 28
        }
      ]
    },
    {
      "cell_type": "markdown",
      "source": [
        "## Mengunduh Pipeline `preprocessing.pkl` dan model `model_sakoo_ann`"
      ],
      "metadata": {
        "id": "-rxtxED9DhM_"
      }
    },
    {
      "cell_type": "code",
      "source": [
        "preprocessing = joblib.load('/content/preprocessing (2).pkl')\n",
        "model = load_model('/content/model_sakoo_ann (2).keras')"
      ],
      "metadata": {
        "id": "spxke6AWkAWK"
      },
      "execution_count": null,
      "outputs": []
    },
    {
      "cell_type": "markdown",
      "source": [
        "# **3. Data Preprocessing**"
      ],
      "metadata": {
        "id": "9OqCzHY84Gm-"
      }
    },
    {
      "cell_type": "markdown",
      "source": [
        "Tahapan ketiga dari testing adalah data preprocessing untuk menyiapkan dataset agar siap digunakan untuk analisis dan prediksi."
      ],
      "metadata": {
        "id": "4PpoBB087eEq"
      }
    },
    {
      "cell_type": "markdown",
      "source": [
        "## Fungsi Rasio Keuangan"
      ],
      "metadata": {
        "id": "sdSKg9Iw2725"
      }
    },
    {
      "cell_type": "markdown",
      "source": [
        "Tahapan pertama dari proses data preprocessing adalah membuat fungsi `compute_ratio` digunakan untuk menghitung berbagai rasio keuangan berdasarkan data pengguna. Fungsi ini menghasilkan enam rasio yakni\n",
        "1. **ExpanseLessThanIncome** = Pengeluaran < Pendapatan\n",
        "2. **Saving20Percent** = tabungan >= (pendapatan * 0.2)\n",
        "3. **DebtUnder30PercentIncome** = cicilan <  (pendapatan * 0.3)\n",
        "4. **EmergencyFundSufficient** =  dana darurat > (pengeluaran * 3)\n",
        "5. **AssetMoreThanDebt** = total asset > total utang\n",
        "6. **DebtRatioUnder50Percent** = AssetMoreThanDebt < 0.5\n",
        "\n",
        "Perhitungan rasio ini membantu memberikan gambaran yang lebih jelas tentang kondisi kesehatan finansial pengguna dan digunakan sebagai fitur dalam model machine learning."
      ],
      "metadata": {
        "id": "wFFnFZinwbiL"
      }
    },
    {
      "cell_type": "code",
      "source": [
        "def compute_ratio(col):\n",
        "    epsilon = 1e-6\n",
        "    pendapatan_bulanan = col.iloc[:, 0]\n",
        "    total_pengeluaran = col.iloc[:, 1]\n",
        "    tabungan = col.iloc[:, 2]\n",
        "    cicilan_perbulan = col.iloc[:, 3]\n",
        "    dana_darurat = col.iloc[:, 4]\n",
        "    total_aset = col.iloc[:, 5]\n",
        "    total_utang = col.iloc[:, 6]\n",
        "\n",
        "    ExpenseToIncomeRatio = total_pengeluaran / (pendapatan_bulanan + epsilon)\n",
        "    SavingToIncomeRatio = tabungan / (pendapatan_bulanan + epsilon)\n",
        "    DebtToIncomeRatio = cicilan_perbulan / (pendapatan_bulanan + epsilon)\n",
        "    EmergencyFundRatio = dana_darurat / (total_pengeluaran + epsilon)\n",
        "    AssetToDebtRatio = total_aset / (total_utang + epsilon)\n",
        "    DebtToAssetRatio = total_utang / (total_aset + epsilon)\n",
        "\n",
        "    return np.stack([\n",
        "        ExpenseToIncomeRatio,\n",
        "        SavingToIncomeRatio,\n",
        "        DebtToIncomeRatio,\n",
        "        EmergencyFundRatio,\n",
        "        AssetToDebtRatio,\n",
        "        DebtToAssetRatio\n",
        "    ], axis=1)"
      ],
      "metadata": {
        "id": "2Pxw7tiZvdaN"
      },
      "execution_count": null,
      "outputs": []
    },
    {
      "cell_type": "markdown",
      "source": [
        "## Drop Fitur\n",
        "\n",
        "Tahap selanjutnya dari proses data preprocessing adalah melakukan **drop fitur** pada fitur `Unnamed: 0` da `Target`, karena fitur ini tidak memiliki informasi penting yang dapat digunakan pada proses predikasi. Kemudian dataset yang telah dilakukan drop disimpan dalam `df_simulasi`\n"
      ],
      "metadata": {
        "id": "arU-5tOZ3Ekf"
      }
    },
    {
      "cell_type": "code",
      "source": [
        "drop_col=['Unnamed: 0','Target']\n",
        "clean = df.drop(drop_col, axis=1)\n",
        "df_simulasi = clean.head(10)\n",
        "df_simulasi"
      ],
      "metadata": {
        "colab": {
          "base_uri": "https://localhost:8080/",
          "height": 363
        },
        "id": "vXD8RnaKwLnD",
        "outputId": "52ad4d6d-99be-4d3f-ffba-5c005e5e9b40"
      },
      "execution_count": null,
      "outputs": [
        {
          "output_type": "execute_result",
          "data": {
            "text/plain": [
              "   Pendapatan Bulanan  Total Pengeluaran  Tabungan  Cicilan Per Bulan  \\\n",
              "0             3479135            3366571    383818             722462   \n",
              "1             5909635            4748150    883466             878886   \n",
              "2             4690356            4988510    693808            1158535   \n",
              "3             5777471            4877955    907218            1485468   \n",
              "4             5212882            3427158    669527            1120757   \n",
              "5             1000000            2243060    209026              54785   \n",
              "6             4388363            3209185    466873             779172   \n",
              "7             5918662            5044962    610191            1345866   \n",
              "8             6754983            4600228    897483             645954   \n",
              "9             7184045            5144483    556053             821015   \n",
              "\n",
              "   Dana Darurat  Total Aset  Total Utang  \n",
              "0        472370    12000000     22396351  \n",
              "1        438586     9000000      7031095  \n",
              "2        161281     7500000     35914600  \n",
              "3        702520     3000000     77244349  \n",
              "4        624172    10500000     63883164  \n",
              "5        130050     3000000      2739284  \n",
              "6        343606     3000000     42854503  \n",
              "7        388759    12000000     43067721  \n",
              "8        708072     7500000      3875727  \n",
              "9        528456     7500000     18883366  "
            ],
            "text/html": [
              "\n",
              "  <div id=\"df-0ea0346d-04fb-4f63-82f4-33689f186488\" class=\"colab-df-container\">\n",
              "    <div>\n",
              "<style scoped>\n",
              "    .dataframe tbody tr th:only-of-type {\n",
              "        vertical-align: middle;\n",
              "    }\n",
              "\n",
              "    .dataframe tbody tr th {\n",
              "        vertical-align: top;\n",
              "    }\n",
              "\n",
              "    .dataframe thead th {\n",
              "        text-align: right;\n",
              "    }\n",
              "</style>\n",
              "<table border=\"1\" class=\"dataframe\">\n",
              "  <thead>\n",
              "    <tr style=\"text-align: right;\">\n",
              "      <th></th>\n",
              "      <th>Pendapatan Bulanan</th>\n",
              "      <th>Total Pengeluaran</th>\n",
              "      <th>Tabungan</th>\n",
              "      <th>Cicilan Per Bulan</th>\n",
              "      <th>Dana Darurat</th>\n",
              "      <th>Total Aset</th>\n",
              "      <th>Total Utang</th>\n",
              "    </tr>\n",
              "  </thead>\n",
              "  <tbody>\n",
              "    <tr>\n",
              "      <th>0</th>\n",
              "      <td>3479135</td>\n",
              "      <td>3366571</td>\n",
              "      <td>383818</td>\n",
              "      <td>722462</td>\n",
              "      <td>472370</td>\n",
              "      <td>12000000</td>\n",
              "      <td>22396351</td>\n",
              "    </tr>\n",
              "    <tr>\n",
              "      <th>1</th>\n",
              "      <td>5909635</td>\n",
              "      <td>4748150</td>\n",
              "      <td>883466</td>\n",
              "      <td>878886</td>\n",
              "      <td>438586</td>\n",
              "      <td>9000000</td>\n",
              "      <td>7031095</td>\n",
              "    </tr>\n",
              "    <tr>\n",
              "      <th>2</th>\n",
              "      <td>4690356</td>\n",
              "      <td>4988510</td>\n",
              "      <td>693808</td>\n",
              "      <td>1158535</td>\n",
              "      <td>161281</td>\n",
              "      <td>7500000</td>\n",
              "      <td>35914600</td>\n",
              "    </tr>\n",
              "    <tr>\n",
              "      <th>3</th>\n",
              "      <td>5777471</td>\n",
              "      <td>4877955</td>\n",
              "      <td>907218</td>\n",
              "      <td>1485468</td>\n",
              "      <td>702520</td>\n",
              "      <td>3000000</td>\n",
              "      <td>77244349</td>\n",
              "    </tr>\n",
              "    <tr>\n",
              "      <th>4</th>\n",
              "      <td>5212882</td>\n",
              "      <td>3427158</td>\n",
              "      <td>669527</td>\n",
              "      <td>1120757</td>\n",
              "      <td>624172</td>\n",
              "      <td>10500000</td>\n",
              "      <td>63883164</td>\n",
              "    </tr>\n",
              "    <tr>\n",
              "      <th>5</th>\n",
              "      <td>1000000</td>\n",
              "      <td>2243060</td>\n",
              "      <td>209026</td>\n",
              "      <td>54785</td>\n",
              "      <td>130050</td>\n",
              "      <td>3000000</td>\n",
              "      <td>2739284</td>\n",
              "    </tr>\n",
              "    <tr>\n",
              "      <th>6</th>\n",
              "      <td>4388363</td>\n",
              "      <td>3209185</td>\n",
              "      <td>466873</td>\n",
              "      <td>779172</td>\n",
              "      <td>343606</td>\n",
              "      <td>3000000</td>\n",
              "      <td>42854503</td>\n",
              "    </tr>\n",
              "    <tr>\n",
              "      <th>7</th>\n",
              "      <td>5918662</td>\n",
              "      <td>5044962</td>\n",
              "      <td>610191</td>\n",
              "      <td>1345866</td>\n",
              "      <td>388759</td>\n",
              "      <td>12000000</td>\n",
              "      <td>43067721</td>\n",
              "    </tr>\n",
              "    <tr>\n",
              "      <th>8</th>\n",
              "      <td>6754983</td>\n",
              "      <td>4600228</td>\n",
              "      <td>897483</td>\n",
              "      <td>645954</td>\n",
              "      <td>708072</td>\n",
              "      <td>7500000</td>\n",
              "      <td>3875727</td>\n",
              "    </tr>\n",
              "    <tr>\n",
              "      <th>9</th>\n",
              "      <td>7184045</td>\n",
              "      <td>5144483</td>\n",
              "      <td>556053</td>\n",
              "      <td>821015</td>\n",
              "      <td>528456</td>\n",
              "      <td>7500000</td>\n",
              "      <td>18883366</td>\n",
              "    </tr>\n",
              "  </tbody>\n",
              "</table>\n",
              "</div>\n",
              "    <div class=\"colab-df-buttons\">\n",
              "\n",
              "  <div class=\"colab-df-container\">\n",
              "    <button class=\"colab-df-convert\" onclick=\"convertToInteractive('df-0ea0346d-04fb-4f63-82f4-33689f186488')\"\n",
              "            title=\"Convert this dataframe to an interactive table.\"\n",
              "            style=\"display:none;\">\n",
              "\n",
              "  <svg xmlns=\"http://www.w3.org/2000/svg\" height=\"24px\" viewBox=\"0 -960 960 960\">\n",
              "    <path d=\"M120-120v-720h720v720H120Zm60-500h600v-160H180v160Zm220 220h160v-160H400v160Zm0 220h160v-160H400v160ZM180-400h160v-160H180v160Zm440 0h160v-160H620v160ZM180-180h160v-160H180v160Zm440 0h160v-160H620v160Z\"/>\n",
              "  </svg>\n",
              "    </button>\n",
              "\n",
              "  <style>\n",
              "    .colab-df-container {\n",
              "      display:flex;\n",
              "      gap: 12px;\n",
              "    }\n",
              "\n",
              "    .colab-df-convert {\n",
              "      background-color: #E8F0FE;\n",
              "      border: none;\n",
              "      border-radius: 50%;\n",
              "      cursor: pointer;\n",
              "      display: none;\n",
              "      fill: #1967D2;\n",
              "      height: 32px;\n",
              "      padding: 0 0 0 0;\n",
              "      width: 32px;\n",
              "    }\n",
              "\n",
              "    .colab-df-convert:hover {\n",
              "      background-color: #E2EBFA;\n",
              "      box-shadow: 0px 1px 2px rgba(60, 64, 67, 0.3), 0px 1px 3px 1px rgba(60, 64, 67, 0.15);\n",
              "      fill: #174EA6;\n",
              "    }\n",
              "\n",
              "    .colab-df-buttons div {\n",
              "      margin-bottom: 4px;\n",
              "    }\n",
              "\n",
              "    [theme=dark] .colab-df-convert {\n",
              "      background-color: #3B4455;\n",
              "      fill: #D2E3FC;\n",
              "    }\n",
              "\n",
              "    [theme=dark] .colab-df-convert:hover {\n",
              "      background-color: #434B5C;\n",
              "      box-shadow: 0px 1px 3px 1px rgba(0, 0, 0, 0.15);\n",
              "      filter: drop-shadow(0px 1px 2px rgba(0, 0, 0, 0.3));\n",
              "      fill: #FFFFFF;\n",
              "    }\n",
              "  </style>\n",
              "\n",
              "    <script>\n",
              "      const buttonEl =\n",
              "        document.querySelector('#df-0ea0346d-04fb-4f63-82f4-33689f186488 button.colab-df-convert');\n",
              "      buttonEl.style.display =\n",
              "        google.colab.kernel.accessAllowed ? 'block' : 'none';\n",
              "\n",
              "      async function convertToInteractive(key) {\n",
              "        const element = document.querySelector('#df-0ea0346d-04fb-4f63-82f4-33689f186488');\n",
              "        const dataTable =\n",
              "          await google.colab.kernel.invokeFunction('convertToInteractive',\n",
              "                                                    [key], {});\n",
              "        if (!dataTable) return;\n",
              "\n",
              "        const docLinkHtml = 'Like what you see? Visit the ' +\n",
              "          '<a target=\"_blank\" href=https://colab.research.google.com/notebooks/data_table.ipynb>data table notebook</a>'\n",
              "          + ' to learn more about interactive tables.';\n",
              "        element.innerHTML = '';\n",
              "        dataTable['output_type'] = 'display_data';\n",
              "        await google.colab.output.renderOutput(dataTable, element);\n",
              "        const docLink = document.createElement('div');\n",
              "        docLink.innerHTML = docLinkHtml;\n",
              "        element.appendChild(docLink);\n",
              "      }\n",
              "    </script>\n",
              "  </div>\n",
              "\n",
              "\n",
              "<div id=\"df-3ec71764-4d9e-42c9-8482-dd13da329584\">\n",
              "  <button class=\"colab-df-quickchart\" onclick=\"quickchart('df-3ec71764-4d9e-42c9-8482-dd13da329584')\"\n",
              "            title=\"Suggest charts\"\n",
              "            style=\"display:none;\">\n",
              "\n",
              "<svg xmlns=\"http://www.w3.org/2000/svg\" height=\"24px\"viewBox=\"0 0 24 24\"\n",
              "     width=\"24px\">\n",
              "    <g>\n",
              "        <path d=\"M19 3H5c-1.1 0-2 .9-2 2v14c0 1.1.9 2 2 2h14c1.1 0 2-.9 2-2V5c0-1.1-.9-2-2-2zM9 17H7v-7h2v7zm4 0h-2V7h2v10zm4 0h-2v-4h2v4z\"/>\n",
              "    </g>\n",
              "</svg>\n",
              "  </button>\n",
              "\n",
              "<style>\n",
              "  .colab-df-quickchart {\n",
              "      --bg-color: #E8F0FE;\n",
              "      --fill-color: #1967D2;\n",
              "      --hover-bg-color: #E2EBFA;\n",
              "      --hover-fill-color: #174EA6;\n",
              "      --disabled-fill-color: #AAA;\n",
              "      --disabled-bg-color: #DDD;\n",
              "  }\n",
              "\n",
              "  [theme=dark] .colab-df-quickchart {\n",
              "      --bg-color: #3B4455;\n",
              "      --fill-color: #D2E3FC;\n",
              "      --hover-bg-color: #434B5C;\n",
              "      --hover-fill-color: #FFFFFF;\n",
              "      --disabled-bg-color: #3B4455;\n",
              "      --disabled-fill-color: #666;\n",
              "  }\n",
              "\n",
              "  .colab-df-quickchart {\n",
              "    background-color: var(--bg-color);\n",
              "    border: none;\n",
              "    border-radius: 50%;\n",
              "    cursor: pointer;\n",
              "    display: none;\n",
              "    fill: var(--fill-color);\n",
              "    height: 32px;\n",
              "    padding: 0;\n",
              "    width: 32px;\n",
              "  }\n",
              "\n",
              "  .colab-df-quickchart:hover {\n",
              "    background-color: var(--hover-bg-color);\n",
              "    box-shadow: 0 1px 2px rgba(60, 64, 67, 0.3), 0 1px 3px 1px rgba(60, 64, 67, 0.15);\n",
              "    fill: var(--button-hover-fill-color);\n",
              "  }\n",
              "\n",
              "  .colab-df-quickchart-complete:disabled,\n",
              "  .colab-df-quickchart-complete:disabled:hover {\n",
              "    background-color: var(--disabled-bg-color);\n",
              "    fill: var(--disabled-fill-color);\n",
              "    box-shadow: none;\n",
              "  }\n",
              "\n",
              "  .colab-df-spinner {\n",
              "    border: 2px solid var(--fill-color);\n",
              "    border-color: transparent;\n",
              "    border-bottom-color: var(--fill-color);\n",
              "    animation:\n",
              "      spin 1s steps(1) infinite;\n",
              "  }\n",
              "\n",
              "  @keyframes spin {\n",
              "    0% {\n",
              "      border-color: transparent;\n",
              "      border-bottom-color: var(--fill-color);\n",
              "      border-left-color: var(--fill-color);\n",
              "    }\n",
              "    20% {\n",
              "      border-color: transparent;\n",
              "      border-left-color: var(--fill-color);\n",
              "      border-top-color: var(--fill-color);\n",
              "    }\n",
              "    30% {\n",
              "      border-color: transparent;\n",
              "      border-left-color: var(--fill-color);\n",
              "      border-top-color: var(--fill-color);\n",
              "      border-right-color: var(--fill-color);\n",
              "    }\n",
              "    40% {\n",
              "      border-color: transparent;\n",
              "      border-right-color: var(--fill-color);\n",
              "      border-top-color: var(--fill-color);\n",
              "    }\n",
              "    60% {\n",
              "      border-color: transparent;\n",
              "      border-right-color: var(--fill-color);\n",
              "    }\n",
              "    80% {\n",
              "      border-color: transparent;\n",
              "      border-right-color: var(--fill-color);\n",
              "      border-bottom-color: var(--fill-color);\n",
              "    }\n",
              "    90% {\n",
              "      border-color: transparent;\n",
              "      border-bottom-color: var(--fill-color);\n",
              "    }\n",
              "  }\n",
              "</style>\n",
              "\n",
              "  <script>\n",
              "    async function quickchart(key) {\n",
              "      const quickchartButtonEl =\n",
              "        document.querySelector('#' + key + ' button');\n",
              "      quickchartButtonEl.disabled = true;  // To prevent multiple clicks.\n",
              "      quickchartButtonEl.classList.add('colab-df-spinner');\n",
              "      try {\n",
              "        const charts = await google.colab.kernel.invokeFunction(\n",
              "            'suggestCharts', [key], {});\n",
              "      } catch (error) {\n",
              "        console.error('Error during call to suggestCharts:', error);\n",
              "      }\n",
              "      quickchartButtonEl.classList.remove('colab-df-spinner');\n",
              "      quickchartButtonEl.classList.add('colab-df-quickchart-complete');\n",
              "    }\n",
              "    (() => {\n",
              "      let quickchartButtonEl =\n",
              "        document.querySelector('#df-3ec71764-4d9e-42c9-8482-dd13da329584 button');\n",
              "      quickchartButtonEl.style.display =\n",
              "        google.colab.kernel.accessAllowed ? 'block' : 'none';\n",
              "    })();\n",
              "  </script>\n",
              "</div>\n",
              "\n",
              "  <div id=\"id_d890cbc7-0268-4e6b-a203-bedff4703783\">\n",
              "    <style>\n",
              "      .colab-df-generate {\n",
              "        background-color: #E8F0FE;\n",
              "        border: none;\n",
              "        border-radius: 50%;\n",
              "        cursor: pointer;\n",
              "        display: none;\n",
              "        fill: #1967D2;\n",
              "        height: 32px;\n",
              "        padding: 0 0 0 0;\n",
              "        width: 32px;\n",
              "      }\n",
              "\n",
              "      .colab-df-generate:hover {\n",
              "        background-color: #E2EBFA;\n",
              "        box-shadow: 0px 1px 2px rgba(60, 64, 67, 0.3), 0px 1px 3px 1px rgba(60, 64, 67, 0.15);\n",
              "        fill: #174EA6;\n",
              "      }\n",
              "\n",
              "      [theme=dark] .colab-df-generate {\n",
              "        background-color: #3B4455;\n",
              "        fill: #D2E3FC;\n",
              "      }\n",
              "\n",
              "      [theme=dark] .colab-df-generate:hover {\n",
              "        background-color: #434B5C;\n",
              "        box-shadow: 0px 1px 3px 1px rgba(0, 0, 0, 0.15);\n",
              "        filter: drop-shadow(0px 1px 2px rgba(0, 0, 0, 0.3));\n",
              "        fill: #FFFFFF;\n",
              "      }\n",
              "    </style>\n",
              "    <button class=\"colab-df-generate\" onclick=\"generateWithVariable('df_simulasi')\"\n",
              "            title=\"Generate code using this dataframe.\"\n",
              "            style=\"display:none;\">\n",
              "\n",
              "  <svg xmlns=\"http://www.w3.org/2000/svg\" height=\"24px\"viewBox=\"0 0 24 24\"\n",
              "       width=\"24px\">\n",
              "    <path d=\"M7,19H8.4L18.45,9,17,7.55,7,17.6ZM5,21V16.75L18.45,3.32a2,2,0,0,1,2.83,0l1.4,1.43a1.91,1.91,0,0,1,.58,1.4,1.91,1.91,0,0,1-.58,1.4L9.25,21ZM18.45,9,17,7.55Zm-12,3A5.31,5.31,0,0,0,4.9,8.1,5.31,5.31,0,0,0,1,6.5,5.31,5.31,0,0,0,4.9,4.9,5.31,5.31,0,0,0,6.5,1,5.31,5.31,0,0,0,8.1,4.9,5.31,5.31,0,0,0,12,6.5,5.46,5.46,0,0,0,6.5,12Z\"/>\n",
              "  </svg>\n",
              "    </button>\n",
              "    <script>\n",
              "      (() => {\n",
              "      const buttonEl =\n",
              "        document.querySelector('#id_d890cbc7-0268-4e6b-a203-bedff4703783 button.colab-df-generate');\n",
              "      buttonEl.style.display =\n",
              "        google.colab.kernel.accessAllowed ? 'block' : 'none';\n",
              "\n",
              "      buttonEl.onclick = () => {\n",
              "        google.colab.notebook.generateWithVariable('df_simulasi');\n",
              "      }\n",
              "      })();\n",
              "    </script>\n",
              "  </div>\n",
              "\n",
              "    </div>\n",
              "  </div>\n"
            ],
            "application/vnd.google.colaboratory.intrinsic+json": {
              "type": "dataframe",
              "variable_name": "df_simulasi",
              "summary": "{\n  \"name\": \"df_simulasi\",\n  \"rows\": 10,\n  \"fields\": [\n    {\n      \"column\": \"Pendapatan Bulanan\",\n      \"properties\": {\n        \"dtype\": \"number\",\n        \"std\": 1793327,\n        \"min\": 1000000,\n        \"max\": 7184045,\n        \"num_unique_values\": 10,\n        \"samples\": [\n          6754983,\n          5909635,\n          1000000\n        ],\n        \"semantic_type\": \"\",\n        \"description\": \"\"\n      }\n    },\n    {\n      \"column\": \"Total Pengeluaran\",\n      \"properties\": {\n        \"dtype\": \"number\",\n        \"std\": 1013191,\n        \"min\": 2243060,\n        \"max\": 5144483,\n        \"num_unique_values\": 10,\n        \"samples\": [\n          4600228,\n          4748150,\n          2243060\n        ],\n        \"semantic_type\": \"\",\n        \"description\": \"\"\n      }\n    },\n    {\n      \"column\": \"Tabungan\",\n      \"properties\": {\n        \"dtype\": \"number\",\n        \"std\": 232980,\n        \"min\": 209026,\n        \"max\": 907218,\n        \"num_unique_values\": 10,\n        \"samples\": [\n          897483,\n          883466,\n          209026\n        ],\n        \"semantic_type\": \"\",\n        \"description\": \"\"\n      }\n    },\n    {\n      \"column\": \"Cicilan Per Bulan\",\n      \"properties\": {\n        \"dtype\": \"number\",\n        \"std\": 406729,\n        \"min\": 54785,\n        \"max\": 1485468,\n        \"num_unique_values\": 10,\n        \"samples\": [\n          645954,\n          878886,\n          54785\n        ],\n        \"semantic_type\": \"\",\n        \"description\": \"\"\n      }\n    },\n    {\n      \"column\": \"Dana Darurat\",\n      \"properties\": {\n        \"dtype\": \"number\",\n        \"std\": 202288,\n        \"min\": 130050,\n        \"max\": 708072,\n        \"num_unique_values\": 10,\n        \"samples\": [\n          708072,\n          438586,\n          130050\n        ],\n        \"semantic_type\": \"\",\n        \"description\": \"\"\n      }\n    },\n    {\n      \"column\": \"Total Aset\",\n      \"properties\": {\n        \"dtype\": \"number\",\n        \"std\": 3535533,\n        \"min\": 3000000,\n        \"max\": 12000000,\n        \"num_unique_values\": 5,\n        \"samples\": [\n          9000000,\n          10500000,\n          7500000\n        ],\n        \"semantic_type\": \"\",\n        \"description\": \"\"\n      }\n    },\n    {\n      \"column\": \"Total Utang\",\n      \"properties\": {\n        \"dtype\": \"number\",\n        \"std\": 25503088,\n        \"min\": 2739284,\n        \"max\": 77244349,\n        \"num_unique_values\": 10,\n        \"samples\": [\n          3875727,\n          7031095,\n          2739284\n        ],\n        \"semantic_type\": \"\",\n        \"description\": \"\"\n      }\n    }\n  ]\n}"
            }
          },
          "metadata": {},
          "execution_count": 26
        }
      ]
    },
    {
      "cell_type": "markdown",
      "source": [
        "# **4. Testing**"
      ],
      "metadata": {
        "id": "n-eE1ISs5ab0"
      }
    },
    {
      "cell_type": "markdown",
      "source": [
        "Tahapan terakhir adalah testing, yaitu proses melakukan prediksi menggunakan model yang telah dilatih pada dataset."
      ],
      "metadata": {
        "id": "cYDMQg2q707C"
      }
    },
    {
      "cell_type": "markdown",
      "source": [
        "## Transformasi dan Prediksi"
      ],
      "metadata": {
        "id": "Y9_96orr1HKI"
      }
    },
    {
      "cell_type": "markdown",
      "source": [
        "Tahap selanjutnya adalah melakukan transformasi data dalam `df_simulasi` menggunakan pipeline preprocessing yang telah disimpan. Setelah data ditransformasi menjadi `X_user_ratio`, model ANN digunakan untuk memprediksi label yang sesuai. Hasil prediksi berupa probabilitas untuk setiap kelas, kemudian diambil kelas dengan probabilitas tertinggi menggunakan `np.argmax`.\n"
      ],
      "metadata": {
        "id": "h5VW2vO_1AX9"
      }
    },
    {
      "cell_type": "code",
      "source": [
        "X_user_ratio = preprocessing.transform(df_simulasi.values)\n",
        "prediksi = model.predict(X_user_ratio)\n",
        "predicted_class = np.argmax(prediksi, axis=1)\n",
        "\n",
        "print(\"Prediksi kelas:\", predicted_class)"
      ],
      "metadata": {
        "colab": {
          "base_uri": "https://localhost:8080/"
        },
        "id": "jlNkw3CykvAF",
        "outputId": "a807d114-98f2-4bb8-e2cc-5c3fa6bb7847"
      },
      "execution_count": null,
      "outputs": [
        {
          "output_type": "stream",
          "name": "stdout",
          "text": [
            "\u001b[1m1/1\u001b[0m \u001b[32m━━━━━━━━━━━━━━━━━━━━\u001b[0m\u001b[37m\u001b[0m \u001b[1m0s\u001b[0m 51ms/step\n",
            "Prediksi kelas: [0 0 0 0 0 3 0 0 1 0]\n"
          ]
        }
      ]
    },
    {
      "cell_type": "code",
      "source": [
        "X_user_ratio"
      ],
      "metadata": {
        "id": "QkuHIdpwQFpL",
        "colab": {
          "base_uri": "https://localhost:8080/"
        },
        "outputId": "0885e104-3eeb-47cb-b39d-38ce11deb923"
      },
      "execution_count": null,
      "outputs": [
        {
          "output_type": "execute_result",
          "data": {
            "text/plain": [
              "array([[0.23398288, 0.3015996 , 0.63062327, 0.51848635, 0.01914728,\n",
              "        0.0710975 ],\n",
              "       [0.14814362, 0.49749961, 0.39488205, 0.32326948, 0.04782124,\n",
              "        0.0288904 ],\n",
              "       [0.284132  , 0.4896307 , 0.78801668, 0.07879302, 0.0065495 ,\n",
              "        0.1847611 ],\n",
              "       [0.16949911, 0.5351584 , 0.82845802, 0.5335829 , 0.        ,\n",
              "        1.        ],\n",
              "       [0.07180283, 0.39219437, 0.65999129, 0.68874757, 0.00483628,\n",
              "        0.23515065],\n",
              "       [0.90078762, 0.79518134, 0.01913525, 0.18323139, 0.04069918,\n",
              "        0.03401928],\n",
              "       [0.11041485, 0.28194217, 0.51021618, 0.38312563, 0.0012008 ,\n",
              "        0.55412524],\n",
              "       [0.17372131, 0.2654766 , 0.70957592, 0.26092401, 0.00923888,\n",
              "        0.13810015],\n",
              "       [0.0841268 , 0.41432342, 0.18250189, 0.57390197, 0.073061  ,\n",
              "        0.01860363],\n",
              "       [0.10247019, 0.13698818, 0.25712982, 0.36542617, 0.0138062 ,\n",
              "        0.09643506]])"
            ]
          },
          "metadata": {},
          "execution_count": 30
        }
      ]
    },
    {
      "cell_type": "markdown",
      "source": [
        "**Insight**\n",
        "\n",
        "Model berhasil memprediksi kondisi keuangan berdasarkan data testing dengan distribusi prediksi.Output yang dihasilkan adalah nilai dari masing-masing ratio tersebut yang telah dilakukan transformasi"
      ],
      "metadata": {
        "id": "Qo9Ai4h11W4-"
      }
    },
    {
      "cell_type": "markdown",
      "source": [
        "##  Dengan Data Input Secara Manual"
      ],
      "metadata": {
        "id": "Ogkj6-7kb8BT"
      }
    },
    {
      "cell_type": "markdown",
      "source": [
        "Dilakukan testing model dengan data input secara manual untuk memastikan bahwa pipeline preprocessing dan model ANN yang telah dilatih dapat memproses dan memberikan prediksi terhadap data baru di luar dataset pelatihan."
      ],
      "metadata": {
        "id": "rnfix-on16FE"
      }
    },
    {
      "cell_type": "code",
      "source": [
        "user_input = {\n",
        "    \"Pendapatan Bulanan\": 7000000,\n",
        "    \"Total Pengeluaran\": 8000000,\n",
        "    \"Tabungan\": 100000,\n",
        "    \"Cicilan Per Bulan\": 1500000,\n",
        "    \"Dana Darurat\": 500000,\n",
        "    \"Total Aset\": 50000000,\n",
        "    \"Total Utang\": 90000000\n",
        "}"
      ],
      "metadata": {
        "id": "z7Wgd1r1b9-3"
      },
      "execution_count": null,
      "outputs": []
    },
    {
      "cell_type": "code",
      "source": [
        "user_input_df = pd.DataFrame([user_input])\n",
        "X_user_ratio = preprocessing.transform(user_input_df)\n",
        "prediksi = model.predict(X_user_ratio)\n",
        "predicted_class = np.argmax(prediksi, axis=1)\n",
        "\n",
        "print(\"Prediksi kelas:\", predicted_class)"
      ],
      "metadata": {
        "colab": {
          "base_uri": "https://localhost:8080/"
        },
        "id": "VPPjSeoocr2a",
        "outputId": "fa9bfdad-fd56-4397-e16b-f61382b5f2d5"
      },
      "execution_count": null,
      "outputs": [
        {
          "output_type": "stream",
          "name": "stdout",
          "text": [
            "\u001b[1m1/1\u001b[0m \u001b[32m━━━━━━━━━━━━━━━━━━━━\u001b[0m\u001b[37m\u001b[0m \u001b[1m1s\u001b[0m 647ms/step\n",
            "Prediksi kelas: [3]\n"
          ]
        }
      ]
    },
    {
      "cell_type": "markdown",
      "source": [
        "**Insight**\n",
        "\n",
        "Model berhasil memprediksi kondisi keuangan berdasarkan data inputan diluar dataset dengan distribusi prediksi."
      ],
      "metadata": {
        "id": "Pej5gL-u2Kvz"
      }
    }
  ]
}