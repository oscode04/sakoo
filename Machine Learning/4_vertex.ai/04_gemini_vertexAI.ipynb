{
  "nbformat": 4,
  "nbformat_minor": 0,
  "metadata": {
    "colab": {
      "provenance": [],
      "gpuType": "T4"
    },
    "kernelspec": {
      "name": "python3",
      "display_name": "Python 3"
    },
    "language_info": {
      "name": "python"
    },
    "accelerator": "GPU"
  },
  "cells": [
    {
      "cell_type": "markdown",
      "source": [
        "# Gemini Vertex AI"
      ],
      "metadata": {
        "id": "RfvDHWoOTuuX"
      }
    },
    {
      "cell_type": "markdown",
      "source": [
        "Tahapan terakhir, digunakan model Gemini melalui Vertex AI untuk menghasilkan rekomendasi berdasarkan hasil keuangan pengguna. Proses ini diawali dengan autentikasi menggunakan file kredensial layanan Google Cloud agar dapat mengakses API Gemini. Selanjutnya, input ke model dikendalikan melalui sebuah file JSON yang telah disusun khusus, berisi format prompt, parameter model, dan struktur output yang diinginkan. Dengan pendekatan ini, sistem mampu memberikan saran finansial yang relevan dan kontekstual secara otomatis, berdasarkan pola dan indikator keuangan pengguna yang telah diolah sebelumnya.\n",
        "\n"
      ],
      "metadata": {
        "id": "JXtTQLTtgCFj"
      }
    },
    {
      "cell_type": "markdown",
      "source": [
        "# Package/Library yang digunakan"
      ],
      "metadata": {
        "id": "UWBJYsCeG52C"
      }
    },
    {
      "cell_type": "markdown",
      "source": [
        "Pada tahapan pertama dari model Gemini Vertex AI, akan dilakukan import package/library yang diperlukan untuk kemudahan dalam proses autentikasi, pengelolaan proyek Google Cloud, serta pengiriman permintaan (request) ke model Gemini melalui Vertex AI.\n",
        "\n",
        "*   `!pip install google-cloud-aiplatform`\n",
        "    > Untuk berinteraksi dengan layanan Vertex AI di Google Cloud langsung dari notebook, termasuk mengakses model seperti Gemini, mengelola endpoint, dan mengirim permintaan prediksi\n",
        "\n",
        "*   `import os`\n",
        "    > Untuk berinteraksi dengan sistem operasi, seperti mengakses variabel lingkungan, mengatur path file, atau mengelola direktori. Dalam konteks ini, biasanya os digunakan untuk membaca file kredensial atau mengatur konfigurasi berbasis lingkungan secara dinamis.\n",
        "\n",
        "*   `import vertexai`\n",
        "    > Untuk menginisialisasi proyek dan lokasi dalam konteks pemanggilan model AI di Vertex serta untuk menyambungkan notebook ke layanan Vertex AI secara langsung.\n",
        "\n",
        "*   `import json`\n",
        "    > Untuk membaca, menulis, dan memproses data dalam format JSON serta membaca file JSON yang berisi prompt atau konfigurasi request yang akan dikirim ke model Gemini.\n",
        "\n",
        "*   `from datetime import date`\n",
        "    > Untuk mengelola tanggal saat ini juga untuk mencatat waktu permintaan, menandai data rekomendasi, atau menampilkan tanggal hasil evaluas\n",
        "\n",
        "*   `from vertexai.preview.generative_models import GenerativeModel, GenerationConfig`\n",
        "    > `GenerativeModel` digunakan untuk mengakses dan menggunakan model generatif seperti Gemini, sementara `GenerationConfig` digunakan untuk mengatur parameter seperti panjang output, jumlah respons, dan gaya jawaban model.\n"
      ],
      "metadata": {
        "id": "ukF8ID4yiUxt"
      }
    },
    {
      "cell_type": "code",
      "execution_count": null,
      "metadata": {
        "colab": {
          "base_uri": "https://localhost:8080/"
        },
        "id": "cM5rdrlOS508",
        "outputId": "7ec017fc-de2c-4e43-8947-02029aef5f76",
        "collapsed": true
      },
      "outputs": [
        {
          "output_type": "stream",
          "name": "stdout",
          "text": [
            "Requirement already satisfied: google-cloud-aiplatform in /usr/local/lib/python3.11/dist-packages (1.95.1)\n",
            "Requirement already satisfied: google-api-core!=2.0.*,!=2.1.*,!=2.2.*,!=2.3.*,!=2.4.*,!=2.5.*,!=2.6.*,!=2.7.*,<3.0.0,>=1.34.1 in /usr/local/lib/python3.11/dist-packages (from google-api-core[grpc]!=2.0.*,!=2.1.*,!=2.2.*,!=2.3.*,!=2.4.*,!=2.5.*,!=2.6.*,!=2.7.*,<3.0.0,>=1.34.1->google-cloud-aiplatform) (2.25.0)\n",
            "Requirement already satisfied: google-auth<3.0.0,>=2.14.1 in /usr/local/lib/python3.11/dist-packages (from google-cloud-aiplatform) (2.38.0)\n",
            "Requirement already satisfied: proto-plus<2.0.0,>=1.22.3 in /usr/local/lib/python3.11/dist-packages (from google-cloud-aiplatform) (1.26.1)\n",
            "Requirement already satisfied: protobuf!=4.21.0,!=4.21.1,!=4.21.2,!=4.21.3,!=4.21.4,!=4.21.5,<7.0.0,>=3.20.2 in /usr/local/lib/python3.11/dist-packages (from google-cloud-aiplatform) (5.29.5)\n",
            "Requirement already satisfied: packaging>=14.3 in /usr/local/lib/python3.11/dist-packages (from google-cloud-aiplatform) (24.2)\n",
            "Requirement already satisfied: google-cloud-storage<3.0.0,>=1.32.0 in /usr/local/lib/python3.11/dist-packages (from google-cloud-aiplatform) (2.19.0)\n",
            "Requirement already satisfied: google-cloud-bigquery!=3.20.0,<4.0.0,>=1.15.0 in /usr/local/lib/python3.11/dist-packages (from google-cloud-aiplatform) (3.34.0)\n",
            "Requirement already satisfied: google-cloud-resource-manager<3.0.0,>=1.3.3 in /usr/local/lib/python3.11/dist-packages (from google-cloud-aiplatform) (1.14.2)\n",
            "Requirement already satisfied: shapely<3.0.0 in /usr/local/lib/python3.11/dist-packages (from google-cloud-aiplatform) (2.1.1)\n",
            "Requirement already satisfied: google-genai<2.0.0,>=1.0.0 in /usr/local/lib/python3.11/dist-packages (from google-cloud-aiplatform) (1.18.0)\n",
            "Requirement already satisfied: pydantic<3 in /usr/local/lib/python3.11/dist-packages (from google-cloud-aiplatform) (2.11.5)\n",
            "Requirement already satisfied: typing-extensions in /usr/local/lib/python3.11/dist-packages (from google-cloud-aiplatform) (4.14.0)\n",
            "Requirement already satisfied: docstring-parser<1 in /usr/local/lib/python3.11/dist-packages (from google-cloud-aiplatform) (0.16)\n",
            "Requirement already satisfied: googleapis-common-protos<2.0.0,>=1.56.2 in /usr/local/lib/python3.11/dist-packages (from google-api-core!=2.0.*,!=2.1.*,!=2.2.*,!=2.3.*,!=2.4.*,!=2.5.*,!=2.6.*,!=2.7.*,<3.0.0,>=1.34.1->google-api-core[grpc]!=2.0.*,!=2.1.*,!=2.2.*,!=2.3.*,!=2.4.*,!=2.5.*,!=2.6.*,!=2.7.*,<3.0.0,>=1.34.1->google-cloud-aiplatform) (1.70.0)\n",
            "Requirement already satisfied: requests<3.0.0,>=2.18.0 in /usr/local/lib/python3.11/dist-packages (from google-api-core!=2.0.*,!=2.1.*,!=2.2.*,!=2.3.*,!=2.4.*,!=2.5.*,!=2.6.*,!=2.7.*,<3.0.0,>=1.34.1->google-api-core[grpc]!=2.0.*,!=2.1.*,!=2.2.*,!=2.3.*,!=2.4.*,!=2.5.*,!=2.6.*,!=2.7.*,<3.0.0,>=1.34.1->google-cloud-aiplatform) (2.32.3)\n",
            "Requirement already satisfied: grpcio<2.0.0,>=1.33.2 in /usr/local/lib/python3.11/dist-packages (from google-api-core[grpc]!=2.0.*,!=2.1.*,!=2.2.*,!=2.3.*,!=2.4.*,!=2.5.*,!=2.6.*,!=2.7.*,<3.0.0,>=1.34.1->google-cloud-aiplatform) (1.72.1)\n",
            "Requirement already satisfied: grpcio-status<2.0.0,>=1.33.2 in /usr/local/lib/python3.11/dist-packages (from google-api-core[grpc]!=2.0.*,!=2.1.*,!=2.2.*,!=2.3.*,!=2.4.*,!=2.5.*,!=2.6.*,!=2.7.*,<3.0.0,>=1.34.1->google-cloud-aiplatform) (1.71.0)\n",
            "Requirement already satisfied: cachetools<6.0,>=2.0.0 in /usr/local/lib/python3.11/dist-packages (from google-auth<3.0.0,>=2.14.1->google-cloud-aiplatform) (5.5.2)\n",
            "Requirement already satisfied: pyasn1-modules>=0.2.1 in /usr/local/lib/python3.11/dist-packages (from google-auth<3.0.0,>=2.14.1->google-cloud-aiplatform) (0.4.2)\n",
            "Requirement already satisfied: rsa<5,>=3.1.4 in /usr/local/lib/python3.11/dist-packages (from google-auth<3.0.0,>=2.14.1->google-cloud-aiplatform) (4.9.1)\n",
            "Requirement already satisfied: google-cloud-core<3.0.0,>=2.4.1 in /usr/local/lib/python3.11/dist-packages (from google-cloud-bigquery!=3.20.0,<4.0.0,>=1.15.0->google-cloud-aiplatform) (2.4.3)\n",
            "Requirement already satisfied: google-resumable-media<3.0.0,>=2.0.0 in /usr/local/lib/python3.11/dist-packages (from google-cloud-bigquery!=3.20.0,<4.0.0,>=1.15.0->google-cloud-aiplatform) (2.7.2)\n",
            "Requirement already satisfied: python-dateutil<3.0.0,>=2.8.2 in /usr/local/lib/python3.11/dist-packages (from google-cloud-bigquery!=3.20.0,<4.0.0,>=1.15.0->google-cloud-aiplatform) (2.9.0.post0)\n",
            "Requirement already satisfied: grpc-google-iam-v1<1.0.0,>=0.14.0 in /usr/local/lib/python3.11/dist-packages (from google-cloud-resource-manager<3.0.0,>=1.3.3->google-cloud-aiplatform) (0.14.2)\n",
            "Requirement already satisfied: google-crc32c<2.0dev,>=1.0 in /usr/local/lib/python3.11/dist-packages (from google-cloud-storage<3.0.0,>=1.32.0->google-cloud-aiplatform) (1.7.1)\n",
            "Requirement already satisfied: anyio<5.0.0,>=4.8.0 in /usr/local/lib/python3.11/dist-packages (from google-genai<2.0.0,>=1.0.0->google-cloud-aiplatform) (4.9.0)\n",
            "Requirement already satisfied: httpx<1.0.0,>=0.28.1 in /usr/local/lib/python3.11/dist-packages (from google-genai<2.0.0,>=1.0.0->google-cloud-aiplatform) (0.28.1)\n",
            "Requirement already satisfied: websockets<15.1.0,>=13.0.0 in /usr/local/lib/python3.11/dist-packages (from google-genai<2.0.0,>=1.0.0->google-cloud-aiplatform) (15.0.1)\n",
            "Requirement already satisfied: annotated-types>=0.6.0 in /usr/local/lib/python3.11/dist-packages (from pydantic<3->google-cloud-aiplatform) (0.7.0)\n",
            "Requirement already satisfied: pydantic-core==2.33.2 in /usr/local/lib/python3.11/dist-packages (from pydantic<3->google-cloud-aiplatform) (2.33.2)\n",
            "Requirement already satisfied: typing-inspection>=0.4.0 in /usr/local/lib/python3.11/dist-packages (from pydantic<3->google-cloud-aiplatform) (0.4.1)\n",
            "Requirement already satisfied: numpy>=1.21 in /usr/local/lib/python3.11/dist-packages (from shapely<3.0.0->google-cloud-aiplatform) (2.0.2)\n",
            "Requirement already satisfied: idna>=2.8 in /usr/local/lib/python3.11/dist-packages (from anyio<5.0.0,>=4.8.0->google-genai<2.0.0,>=1.0.0->google-cloud-aiplatform) (3.10)\n",
            "Requirement already satisfied: sniffio>=1.1 in /usr/local/lib/python3.11/dist-packages (from anyio<5.0.0,>=4.8.0->google-genai<2.0.0,>=1.0.0->google-cloud-aiplatform) (1.3.1)\n",
            "Requirement already satisfied: certifi in /usr/local/lib/python3.11/dist-packages (from httpx<1.0.0,>=0.28.1->google-genai<2.0.0,>=1.0.0->google-cloud-aiplatform) (2025.4.26)\n",
            "Requirement already satisfied: httpcore==1.* in /usr/local/lib/python3.11/dist-packages (from httpx<1.0.0,>=0.28.1->google-genai<2.0.0,>=1.0.0->google-cloud-aiplatform) (1.0.9)\n",
            "Requirement already satisfied: h11>=0.16 in /usr/local/lib/python3.11/dist-packages (from httpcore==1.*->httpx<1.0.0,>=0.28.1->google-genai<2.0.0,>=1.0.0->google-cloud-aiplatform) (0.16.0)\n",
            "Requirement already satisfied: pyasn1<0.7.0,>=0.6.1 in /usr/local/lib/python3.11/dist-packages (from pyasn1-modules>=0.2.1->google-auth<3.0.0,>=2.14.1->google-cloud-aiplatform) (0.6.1)\n",
            "Requirement already satisfied: six>=1.5 in /usr/local/lib/python3.11/dist-packages (from python-dateutil<3.0.0,>=2.8.2->google-cloud-bigquery!=3.20.0,<4.0.0,>=1.15.0->google-cloud-aiplatform) (1.17.0)\n",
            "Requirement already satisfied: charset-normalizer<4,>=2 in /usr/local/lib/python3.11/dist-packages (from requests<3.0.0,>=2.18.0->google-api-core!=2.0.*,!=2.1.*,!=2.2.*,!=2.3.*,!=2.4.*,!=2.5.*,!=2.6.*,!=2.7.*,<3.0.0,>=1.34.1->google-api-core[grpc]!=2.0.*,!=2.1.*,!=2.2.*,!=2.3.*,!=2.4.*,!=2.5.*,!=2.6.*,!=2.7.*,<3.0.0,>=1.34.1->google-cloud-aiplatform) (3.4.2)\n",
            "Requirement already satisfied: urllib3<3,>=1.21.1 in /usr/local/lib/python3.11/dist-packages (from requests<3.0.0,>=2.18.0->google-api-core!=2.0.*,!=2.1.*,!=2.2.*,!=2.3.*,!=2.4.*,!=2.5.*,!=2.6.*,!=2.7.*,<3.0.0,>=1.34.1->google-api-core[grpc]!=2.0.*,!=2.1.*,!=2.2.*,!=2.3.*,!=2.4.*,!=2.5.*,!=2.6.*,!=2.7.*,<3.0.0,>=1.34.1->google-cloud-aiplatform) (2.4.0)\n",
            "Requirement already satisfied: google-generativeai in /usr/local/lib/python3.11/dist-packages (0.8.5)\n",
            "Requirement already satisfied: google-ai-generativelanguage==0.6.15 in /usr/local/lib/python3.11/dist-packages (from google-generativeai) (0.6.15)\n",
            "Requirement already satisfied: google-api-core in /usr/local/lib/python3.11/dist-packages (from google-generativeai) (2.25.0)\n",
            "Requirement already satisfied: google-api-python-client in /usr/local/lib/python3.11/dist-packages (from google-generativeai) (2.171.0)\n",
            "Requirement already satisfied: google-auth>=2.15.0 in /usr/local/lib/python3.11/dist-packages (from google-generativeai) (2.38.0)\n",
            "Requirement already satisfied: protobuf in /usr/local/lib/python3.11/dist-packages (from google-generativeai) (5.29.5)\n",
            "Requirement already satisfied: pydantic in /usr/local/lib/python3.11/dist-packages (from google-generativeai) (2.11.5)\n",
            "Requirement already satisfied: tqdm in /usr/local/lib/python3.11/dist-packages (from google-generativeai) (4.67.1)\n",
            "Requirement already satisfied: typing-extensions in /usr/local/lib/python3.11/dist-packages (from google-generativeai) (4.14.0)\n",
            "Requirement already satisfied: proto-plus<2.0.0dev,>=1.22.3 in /usr/local/lib/python3.11/dist-packages (from google-ai-generativelanguage==0.6.15->google-generativeai) (1.26.1)\n",
            "Requirement already satisfied: googleapis-common-protos<2.0.0,>=1.56.2 in /usr/local/lib/python3.11/dist-packages (from google-api-core->google-generativeai) (1.70.0)\n",
            "Requirement already satisfied: requests<3.0.0,>=2.18.0 in /usr/local/lib/python3.11/dist-packages (from google-api-core->google-generativeai) (2.32.3)\n",
            "Requirement already satisfied: cachetools<6.0,>=2.0.0 in /usr/local/lib/python3.11/dist-packages (from google-auth>=2.15.0->google-generativeai) (5.5.2)\n",
            "Requirement already satisfied: pyasn1-modules>=0.2.1 in /usr/local/lib/python3.11/dist-packages (from google-auth>=2.15.0->google-generativeai) (0.4.2)\n",
            "Requirement already satisfied: rsa<5,>=3.1.4 in /usr/local/lib/python3.11/dist-packages (from google-auth>=2.15.0->google-generativeai) (4.9.1)\n",
            "Requirement already satisfied: httplib2<1.0.0,>=0.19.0 in /usr/local/lib/python3.11/dist-packages (from google-api-python-client->google-generativeai) (0.22.0)\n",
            "Requirement already satisfied: google-auth-httplib2<1.0.0,>=0.2.0 in /usr/local/lib/python3.11/dist-packages (from google-api-python-client->google-generativeai) (0.2.0)\n",
            "Requirement already satisfied: uritemplate<5,>=3.0.1 in /usr/local/lib/python3.11/dist-packages (from google-api-python-client->google-generativeai) (4.2.0)\n",
            "Requirement already satisfied: annotated-types>=0.6.0 in /usr/local/lib/python3.11/dist-packages (from pydantic->google-generativeai) (0.7.0)\n",
            "Requirement already satisfied: pydantic-core==2.33.2 in /usr/local/lib/python3.11/dist-packages (from pydantic->google-generativeai) (2.33.2)\n",
            "Requirement already satisfied: typing-inspection>=0.4.0 in /usr/local/lib/python3.11/dist-packages (from pydantic->google-generativeai) (0.4.1)\n",
            "Requirement already satisfied: grpcio<2.0.0,>=1.33.2 in /usr/local/lib/python3.11/dist-packages (from google-api-core[grpc]!=2.0.*,!=2.1.*,!=2.10.*,!=2.2.*,!=2.3.*,!=2.4.*,!=2.5.*,!=2.6.*,!=2.7.*,!=2.8.*,!=2.9.*,<3.0.0dev,>=1.34.1->google-ai-generativelanguage==0.6.15->google-generativeai) (1.72.1)\n",
            "Requirement already satisfied: grpcio-status<2.0.0,>=1.33.2 in /usr/local/lib/python3.11/dist-packages (from google-api-core[grpc]!=2.0.*,!=2.1.*,!=2.10.*,!=2.2.*,!=2.3.*,!=2.4.*,!=2.5.*,!=2.6.*,!=2.7.*,!=2.8.*,!=2.9.*,<3.0.0dev,>=1.34.1->google-ai-generativelanguage==0.6.15->google-generativeai) (1.71.0)\n",
            "Requirement already satisfied: pyparsing!=3.0.0,!=3.0.1,!=3.0.2,!=3.0.3,<4,>=2.4.2 in /usr/local/lib/python3.11/dist-packages (from httplib2<1.0.0,>=0.19.0->google-api-python-client->google-generativeai) (3.2.3)\n",
            "Requirement already satisfied: pyasn1<0.7.0,>=0.6.1 in /usr/local/lib/python3.11/dist-packages (from pyasn1-modules>=0.2.1->google-auth>=2.15.0->google-generativeai) (0.6.1)\n",
            "Requirement already satisfied: charset-normalizer<4,>=2 in /usr/local/lib/python3.11/dist-packages (from requests<3.0.0,>=2.18.0->google-api-core->google-generativeai) (3.4.2)\n",
            "Requirement already satisfied: idna<4,>=2.5 in /usr/local/lib/python3.11/dist-packages (from requests<3.0.0,>=2.18.0->google-api-core->google-generativeai) (3.10)\n",
            "Requirement already satisfied: urllib3<3,>=1.21.1 in /usr/local/lib/python3.11/dist-packages (from requests<3.0.0,>=2.18.0->google-api-core->google-generativeai) (2.4.0)\n",
            "Requirement already satisfied: certifi>=2017.4.17 in /usr/local/lib/python3.11/dist-packages (from requests<3.0.0,>=2.18.0->google-api-core->google-generativeai) (2025.4.26)\n"
          ]
        }
      ],
      "source": [
        "!pip install google-cloud-aiplatform\n",
        "!pip install google-generativeai"
      ]
    },
    {
      "cell_type": "code",
      "source": [
        "import os\n",
        "import vertexai\n",
        "import json\n",
        "from datetime import date\n",
        "\n",
        "from vertexai.preview.generative_models import GenerativeModel, GenerationConfig\n",
        "from google import genai\n",
        "from google.genai import types\n",
        "import base64"
      ],
      "metadata": {
        "id": "XHQJAYYUZQO6"
      },
      "execution_count": null,
      "outputs": []
    },
    {
      "cell_type": "markdown",
      "source": [
        "# Inisialisasi dan Pemanggilan Model Gemini"
      ],
      "metadata": {
        "id": "ayAd4EiiDerc"
      }
    },
    {
      "cell_type": "markdown",
      "source": [
        "Tahapan selanjutnya adalah pemanggilan model AI yang telah dideploy melalui end point di Vertex AI.\n",
        "\n",
        "Langkah pertama dilakukan yakni mengatur kredensial akses menggunakan perintah `os.environ[\"GOOGLE_APPLICATION_CREDENTIALS\"]` untuk melakukan eutentikasi pada layanan Google Cloud secara aman.\n",
        "\n",
        "Selanjutnya fungsi `generate()` digunakan untuk mengirim prompt berupa teks ke model. Dalam fungsi ini terdapat sebuah client `genai.Client()` yang diinisialisasi dengan paramater `vertexai=True`, project ID, serta lokasi region untuk memastikan permintaan diarahkan ke model yang sesuai.\n",
        "\n",
        "Input teks dari pengguna selanjutnya dalam format `Part`menggunakan `types.Part.from_text(text=text)` kemudian dimasukkan ke dalam `content` dengan peran sebagai user. Konfigurasi untuk proses generasi ditetapkan melalui `GenerateContentConfig` yang mengatur beberapa parameter (`temperature`, `top_p` untuk mengontrol karakteris serta `max_output_tokens` untuk panjang output), serta `safety_settings` digunakan untuk memfilter keamanan yakni **mencegah** moderasi konten yang mengandung ujaran kebencian, konten yang dapat mendorong tindakan berbahaya, konten yang bersifat seksual eksplisit dan konten yang mengandung pelecehan.\n",
        "\n",
        "Pemanggilan model dilakukan dengan menentukan endpoint yang spesifik melalui variabel `model` yang merujuk pada model costum di Vertex AI. Proses inferensi dilakukan dengan metode `generate_content_stream()`, digunakan untuk pengiriman respons secara bertahap (streaming). Setiap bagian dari respons yang diterima kemudian dicetak secara langsung, seperti proses percakapan."
      ],
      "metadata": {
        "id": "jtCsEgNuDrBm"
      }
    },
    {
      "cell_type": "code",
      "source": [
        "os.environ[\"GOOGLE_APPLICATION_CREDENTIALS\"] = \"/content/sakoo-459810-932f7c84db79.json\"\n",
        "\n",
        "def generate(text):\n",
        "  client = genai.Client(\n",
        "      vertexai=True,\n",
        "      project=\"1024264061904\",\n",
        "      location=\"us-central1\",\n",
        "  )\n",
        "\n",
        "  msg1_text1 = types.Part.from_text(text=text)\n",
        "\n",
        "  contents = [\n",
        "    types.Content(role=\"user\", parts=[msg1_text1]),\n",
        "  ]\n",
        "\n",
        "  generate_content_config = types.GenerateContentConfig(\n",
        "    temperature=1,\n",
        "    top_p=0.95,\n",
        "    max_output_tokens=8192,\n",
        "    safety_settings=[\n",
        "      types.SafetySetting(category=\"HARM_CATEGORY_HATE_SPEECH\", threshold=\"OFF\"),\n",
        "      types.SafetySetting(category=\"HARM_CATEGORY_DANGEROUS_CONTENT\", threshold=\"OFF\"),\n",
        "      types.SafetySetting(category=\"HARM_CATEGORY_SEXUALLY_EXPLICIT\", threshold=\"OFF\"),\n",
        "      types.SafetySetting(category=\"HARM_CATEGORY_HARASSMENT\", threshold=\"OFF\"),\n",
        "    ],\n",
        "  )\n",
        "\n",
        "  model = \"projects/1024264061904/locations/us-central1/endpoints/8574516140443697152\"\n",
        "\n",
        "  for chunk in client.models.generate_content_stream(\n",
        "    model=model,\n",
        "    contents=contents,\n",
        "    config=generate_content_config,\n",
        "  ):\n",
        "    print(chunk.text, end=\"\")\n"
      ],
      "metadata": {
        "id": "RhpwRxdZmJ-m"
      },
      "execution_count": null,
      "outputs": []
    },
    {
      "cell_type": "markdown",
      "source": [
        "# Testing Generate"
      ],
      "metadata": {
        "id": "pGbVQhKMKHDy"
      }
    },
    {
      "cell_type": "markdown",
      "source": [
        "Pada tahapan ini dilakukan testing untuk memeriksa hasil dari model terkait situasi keuangan user, memebrikan saran yang realistis dan bagaimana menberikan keputusan terkait prioritas va kondisi keuangan"
      ],
      "metadata": {
        "id": "t8vlXXtjSq2H"
      }
    },
    {
      "cell_type": "code",
      "source": [
        "text_user=\"\"\"\n",
        "pendapatan bulanan sebesar Rp15.000.000, pengeluaran Rp5.000.000,\n",
        "tabungan Rp5.000.000, cicilan bulanan Rp1.500.000, dan dana darurat Rp20.000.000,\n",
        "serta total aset saya saat ini sebesar Rp50.000.000 dan total utang Rp1.000.000.\n",
        "untuk keperluan membeli laptop high end\n",
        "\"\"\"\n",
        "generate(text_user)"
      ],
      "metadata": {
        "colab": {
          "base_uri": "https://localhost:8080/"
        },
        "id": "TtR3gBxiq4gK",
        "outputId": "7ff3eadf-dcce-417b-cba9-5c9b2065f923"
      },
      "execution_count": null,
      "outputs": [
        {
          "output_type": "stream",
          "name": "stdout",
          "text": [
            "Berikut rekomendasi keuangan Anda:\n",
            "\n",
            "1. Kondisi Keuangan Sangat Sehat.\n",
            "Dana darurat lebih dari cukup, utang hampir tidak ada, dan arus kas sangat positif.\n",
            "\n",
            "2. Manfaatkan Tabungan dan Surplus Bulanan.\n",
            "Gunakan tabungan sebagai DP dan surplus bulanan untuk cicilan laptop.\n",
            "\n",
            "3. Dana Darurat Saat Ini Sudah Ideal.\n",
            "Dana darurat Anda (Rp20.000.000) setara dengan 4 bulan pengeluaran (Rp5.000.000), sangat aman.\n",
            "\n",
            "4. Langkah Konkret Selanjutnya.\n",
            "Lakukan riset laptop high end yang diinginkan. Hitung cicilan bulanannya dari surplus yang ada. Jika memungkinkan, tambah sedikit dari tabungan untuk DP atau cicilan."
          ]
        }
      ]
    }
  ]
}